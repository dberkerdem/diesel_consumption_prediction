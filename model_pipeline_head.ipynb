{
 "cells": [
  {
   "cell_type": "code",
   "execution_count": 2,
   "metadata": {},
   "outputs": [],
   "source": [
    "import sys\n",
    "sys.path.append('..') \n",
    "import os\n",
    "\n",
    "import psycopg2\n",
    "import pandas as pd\n",
    "import numpy as np\n",
    "from datetime import date, timedelta, datetime\n",
    "from dateutil.relativedelta import relativedelta"
   ]
  },
  {
   "cell_type": "markdown",
   "metadata": {},
   "source": [
    "# Main"
   ]
  },
  {
   "cell_type": "markdown",
   "metadata": {},
   "source": [
    "## Data Loading"
   ]
  },
  {
   "cell_type": "code",
   "execution_count": 3,
   "metadata": {},
   "outputs": [],
   "source": [
    "# \"\"\"DataLoad\"\"\"\n",
    "# from src.utils.config import get_config\n",
    "# from src.db_ops.db_ops import PosgreOps\n",
    "\n",
    "# # Load Config\n",
    "# config = get_config()\n",
    "# # Initialize database operator, this case posgre operator\n",
    "# pgops = PosgreOps(config=config)\n",
    "# ### Define the required parameters to load the data ###\n",
    "# # -------------------------------------------------------- #\n",
    "# months = 84\n",
    "# table_name = \"daas.epdk_petrol_province\"\n",
    "# # -------------------------------------------------------- #\n",
    "# # Fetch data from database\n",
    "# epdk_petrol_province_data = pgops.get_monthly_data(table_name=table_name,\n",
    "#                                                 today=date.today(), months=months)\n",
    "# # Close the connection after obtaining the data\n",
    "# pgops.shutdown()"
   ]
  },
  {
   "cell_type": "code",
   "execution_count": 4,
   "metadata": {},
   "outputs": [
    {
     "name": "stdout",
     "output_type": "stream",
     "text": [
      "<class 'pandas.core.frame.DataFrame'>\n",
      "Int64Index: 5904 entries, 0 to 5903\n",
      "Data columns (total 11 columns):\n",
      " #   Column          Non-Null Count  Dtype  \n",
      "---  ------          --------------  -----  \n",
      " 0   date            5904 non-null   object \n",
      " 1   province        5904 non-null   object \n",
      " 2   gasolene_types  5904 non-null   float64\n",
      " 3   diesel_types    5904 non-null   float64\n",
      " 4   fuel_oil_types  5890 non-null   float64\n",
      " 5   aviation_fuels  5875 non-null   float64\n",
      " 6   marine_fuels    5826 non-null   float64\n",
      " 7   paraffin_oil    5838 non-null   float64\n",
      " 8   other_types     5824 non-null   float64\n",
      " 9   total           5904 non-null   float64\n",
      " 10  percentage      5904 non-null   float64\n",
      "dtypes: float64(9), object(2)\n",
      "memory usage: 553.5+ KB\n"
     ]
    }
   ],
   "source": [
    "# Load Raw data\n",
    "epdk_petrol_province_data = pd.read_csv('data/daas_raw_data.csv', index_col=[0])\n",
    "epdk_petrol_province_data.info()"
   ]
  },
  {
   "cell_type": "code",
   "execution_count": 5,
   "metadata": {},
   "outputs": [
    {
     "data": {
      "text/html": [
       "<div>\n",
       "<style scoped>\n",
       "    .dataframe tbody tr th:only-of-type {\n",
       "        vertical-align: middle;\n",
       "    }\n",
       "\n",
       "    .dataframe tbody tr th {\n",
       "        vertical-align: top;\n",
       "    }\n",
       "\n",
       "    .dataframe thead th {\n",
       "        text-align: right;\n",
       "    }\n",
       "</style>\n",
       "<table border=\"1\" class=\"dataframe\">\n",
       "  <thead>\n",
       "    <tr style=\"text-align: right;\">\n",
       "      <th></th>\n",
       "      <th>date</th>\n",
       "      <th>province</th>\n",
       "      <th>gasolene_types</th>\n",
       "      <th>diesel_types</th>\n",
       "      <th>fuel_oil_types</th>\n",
       "      <th>aviation_fuels</th>\n",
       "      <th>marine_fuels</th>\n",
       "      <th>paraffin_oil</th>\n",
       "      <th>other_types</th>\n",
       "      <th>total</th>\n",
       "    </tr>\n",
       "  </thead>\n",
       "  <tbody>\n",
       "    <tr>\n",
       "      <th>0</th>\n",
       "      <td>2021-01-07</td>\n",
       "      <td>İSTANBUL</td>\n",
       "      <td>64029877.00</td>\n",
       "      <td>309312242.0</td>\n",
       "      <td>227.04</td>\n",
       "      <td>35862161.00</td>\n",
       "      <td>150.0</td>\n",
       "      <td>0.00</td>\n",
       "      <td>0.0</td>\n",
       "      <td>4.095813e+08</td>\n",
       "    </tr>\n",
       "    <tr>\n",
       "      <th>82</th>\n",
       "      <td>2021-01-06</td>\n",
       "      <td>İSTANBUL</td>\n",
       "      <td>56566776.00</td>\n",
       "      <td>296383914.0</td>\n",
       "      <td>120.82</td>\n",
       "      <td>27658.03</td>\n",
       "      <td>0.0</td>\n",
       "      <td>15.67</td>\n",
       "      <td>0.0</td>\n",
       "      <td>3.807452e+05</td>\n",
       "    </tr>\n",
       "    <tr>\n",
       "      <th>164</th>\n",
       "      <td>2021-01-05</td>\n",
       "      <td>İSTANBUL</td>\n",
       "      <td>36589366.00</td>\n",
       "      <td>217554409.0</td>\n",
       "      <td>216.26</td>\n",
       "      <td>16877432.00</td>\n",
       "      <td>0.0</td>\n",
       "      <td>11771.00</td>\n",
       "      <td>13241.0</td>\n",
       "      <td>2.712536e+08</td>\n",
       "    </tr>\n",
       "    <tr>\n",
       "      <th>246</th>\n",
       "      <td>2021-01-04</td>\n",
       "      <td>İSTANBUL</td>\n",
       "      <td>42943407.00</td>\n",
       "      <td>261733757.0</td>\n",
       "      <td>334.94</td>\n",
       "      <td>20745681.00</td>\n",
       "      <td>200.0</td>\n",
       "      <td>15738.00</td>\n",
       "      <td>0.0</td>\n",
       "      <td>3.259735e+08</td>\n",
       "    </tr>\n",
       "    <tr>\n",
       "      <th>328</th>\n",
       "      <td>2021-01-03</td>\n",
       "      <td>İSTANBUL</td>\n",
       "      <td>51458.42</td>\n",
       "      <td>292829027.0</td>\n",
       "      <td>384.59</td>\n",
       "      <td>22623562.00</td>\n",
       "      <td>370.0</td>\n",
       "      <td>14327.00</td>\n",
       "      <td>0.0</td>\n",
       "      <td>3.676799e+08</td>\n",
       "    </tr>\n",
       "  </tbody>\n",
       "</table>\n",
       "</div>"
      ],
      "text/plain": [
       "           date  province  gasolene_types  diesel_types  fuel_oil_types  \\\n",
       "0    2021-01-07  İSTANBUL     64029877.00   309312242.0          227.04   \n",
       "82   2021-01-06  İSTANBUL     56566776.00   296383914.0          120.82   \n",
       "164  2021-01-05  İSTANBUL     36589366.00   217554409.0          216.26   \n",
       "246  2021-01-04  İSTANBUL     42943407.00   261733757.0          334.94   \n",
       "328  2021-01-03  İSTANBUL        51458.42   292829027.0          384.59   \n",
       "\n",
       "     aviation_fuels  marine_fuels  paraffin_oil  other_types         total  \n",
       "0       35862161.00         150.0          0.00          0.0  4.095813e+08  \n",
       "82         27658.03           0.0         15.67          0.0  3.807452e+05  \n",
       "164     16877432.00           0.0      11771.00      13241.0  2.712536e+08  \n",
       "246     20745681.00         200.0      15738.00          0.0  3.259735e+08  \n",
       "328     22623562.00         370.0      14327.00          0.0  3.676799e+08  "
      ]
     },
     "execution_count": 5,
     "metadata": {},
     "output_type": "execute_result"
    }
   ],
   "source": [
    "epdk_petrol_province_data.query(\"province == 'İSTANBUL'\").drop(columns=[\"percentage\"]).head()"
   ]
  },
  {
   "cell_type": "markdown",
   "metadata": {},
   "source": [
    "## Preprocessing"
   ]
  },
  {
   "cell_type": "code",
   "execution_count": 6,
   "metadata": {},
   "outputs": [
    {
     "name": "stdout",
     "output_type": "stream",
     "text": [
      "Missing Dates are:  [numpy.datetime64('2021-10-01T00:00:00.000000000')]\n"
     ]
    }
   ],
   "source": [
    "\"\"\"Preprocessing\"\"\"\n",
    "from src.preprocessing.preprocess import PreprocessData\n",
    "\n",
    "# Initialize preprocess object\n",
    "prep = PreprocessData(data=epdk_petrol_province_data)\n",
    "### Define parameters to preprocess ###\n",
    "# -------------------------------------------------------- #\n",
    "target_col_list = [\"date\",\"province\",\"diesel_types\"]\n",
    "row_drop_dict = {\"province\": \"Toplam\"} \n",
    "# format_date_flag = True # True by default\n",
    "col_rename_dict = {\"diesel_types\":\"current_month_consumption\"}\n",
    "anomaly_col = \"current_month_consumption\" \n",
    "# -------------------------------------------------------- #\n",
    "# Preprocess data with given parameters\n",
    "preprocessed_df = prep.preprocess_data(target_col_list=target_col_list,\n",
    "                                 row_drop_dict=row_drop_dict,\n",
    "                                 col_rename_dict=col_rename_dict,\n",
    "                                 anomaly_col=anomaly_col)\n"
   ]
  },
  {
   "cell_type": "markdown",
   "metadata": {},
   "source": [
    "## Feature Engineering"
   ]
  },
  {
   "cell_type": "code",
   "execution_count": 7,
   "metadata": {},
   "outputs": [],
   "source": [
    "\"\"\"FeatureEngineering\"\"\"\n",
    "from src.feature_engineering.feat_eng import FeatureEngineering\n",
    "\n",
    "# Initialize feature engineering object\n",
    "feng = FeatureEngineering(data=preprocessed_df)\n",
    "# Apply feature engineering to the preprocessed data\n",
    "feature_engineered_df = feng.feature_engineering()"
   ]
  },
  {
   "cell_type": "code",
   "execution_count": null,
   "metadata": {},
   "outputs": [
    {
     "ename": "NameError",
     "evalue": "name 'feature_engineered_df' is not defined",
     "output_type": "error",
     "traceback": [
      "\u001b[1;31m---------------------------------------------------------------------------\u001b[0m",
      "\u001b[1;31mNameError\u001b[0m                                 Traceback (most recent call last)",
      "\u001b[1;32mc:\\Users\\PC\\bireysel_proje\\model_pipeline_head.ipynb Cell 11\u001b[0m in \u001b[0;36m<cell line: 1>\u001b[1;34m()\u001b[0m\n\u001b[1;32m----> <a href='vscode-notebook-cell:/c%3A/Users/PC/bireysel_proje/model_pipeline_head.ipynb#X20sZmlsZQ%3D%3D?line=0'>1</a>\u001b[0m feature_engineered_df\u001b[39m.\u001b[39mhead()\n",
      "\u001b[1;31mNameError\u001b[0m: name 'feature_engineered_df' is not defined"
     ]
    }
   ],
   "source": [
    "feature_engineered_df.head()"
   ]
  },
  {
   "cell_type": "code",
   "execution_count": null,
   "metadata": {},
   "outputs": [
    {
     "data": {
      "text/plain": [
       "11.878787878787877"
      ]
     },
     "execution_count": 109,
     "metadata": {},
     "output_type": "execute_result"
    }
   ],
   "source": [
    "from sklearn.preprocessing import minmax_scale, scale\n",
    "scores = [0.12, 0.12, 0.03, 0.024]\n",
    "preds = [13, 11, 8, 7]\n",
    "normalized = minmax_scale(scores)\n",
    "deneme = np.multiply(preds,normalized)\n",
    "deneme.sum()/normalized.sum() # this value is expected to be closer to 10"
   ]
  },
  {
   "cell_type": "code",
   "execution_count": null,
   "metadata": {},
   "outputs": [
    {
     "data": {
      "text/plain": [
       "12.000000000000002"
      ]
     },
     "execution_count": 110,
     "metadata": {},
     "output_type": "execute_result"
    }
   ],
   "source": [
    "(12*13+12*13+3*8+7*2.4)/(12+12+3+2.4)"
   ]
  }
 ],
 "metadata": {
  "kernelspec": {
   "display_name": "Python 3.10.3 64-bit",
   "language": "python",
   "name": "python3"
  },
  "language_info": {
   "codemirror_mode": {
    "name": "ipython",
    "version": 3
   },
   "file_extension": ".py",
   "mimetype": "text/x-python",
   "name": "python",
   "nbconvert_exporter": "python",
   "pygments_lexer": "ipython3",
   "version": "3.10.3"
  },
  "orig_nbformat": 4,
  "vscode": {
   "interpreter": {
    "hash": "e593ac106456af50ce7af38f9671c411b49d6cd90f9b885e167f0f594e09038c"
   }
  }
 },
 "nbformat": 4,
 "nbformat_minor": 2
}
