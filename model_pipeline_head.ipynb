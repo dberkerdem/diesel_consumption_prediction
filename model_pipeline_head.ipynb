{
 "cells": [
  {
   "cell_type": "code",
   "execution_count": 1,
   "metadata": {},
   "outputs": [],
   "source": [
    "import sys\n",
    "sys.path.append('..') \n",
    "import os\n",
    "\n",
    "import psycopg2\n",
    "import pandas as pd\n",
    "import numpy as np\n",
    "from datetime import date, timedelta, datetime\n",
    "from dateutil.relativedelta import relativedelta"
   ]
  },
  {
   "cell_type": "markdown",
   "metadata": {},
   "source": [
    "# Main"
   ]
  },
  {
   "cell_type": "markdown",
   "metadata": {},
   "source": [
    "## Data Loading"
   ]
  },
  {
   "cell_type": "code",
   "execution_count": 2,
   "metadata": {},
   "outputs": [],
   "source": [
    "# \"\"\"DataLoad\"\"\"\n",
    "# from src.utils.config import get_config\n",
    "# from src.db_ops.db_ops import PosgreOps\n",
    "\n",
    "# # Load Config\n",
    "# config = get_config()\n",
    "# # Initialize database operator, this case posgre operator\n",
    "# pgops = PosgreOps(config=config)\n",
    "# ### Define the required parameters to load the data ###\n",
    "# # -------------------------------------------------------- #\n",
    "# months = 84\n",
    "# table_name = \"daas.epdk_petrol_province\"\n",
    "# # -------------------------------------------------------- #\n",
    "# # Fetch data from database\n",
    "# epdk_petrol_province_data = pgops.get_monthly_data(table_name=table_name,\n",
    "#                                                 today=date.today(), months=months)\n",
    "# # Close the connection after obtaining the data\n",
    "# pgops.shutdown()"
   ]
  },
  {
   "cell_type": "code",
   "execution_count": 3,
   "metadata": {},
   "outputs": [
    {
     "name": "stdout",
     "output_type": "stream",
     "text": [
      "<class 'pandas.core.frame.DataFrame'>\n",
      "Int64Index: 5904 entries, 0 to 5903\n",
      "Data columns (total 11 columns):\n",
      " #   Column          Non-Null Count  Dtype  \n",
      "---  ------          --------------  -----  \n",
      " 0   date            5904 non-null   object \n",
      " 1   province        5904 non-null   object \n",
      " 2   gasolene_types  5904 non-null   float64\n",
      " 3   diesel_types    5904 non-null   float64\n",
      " 4   fuel_oil_types  5890 non-null   float64\n",
      " 5   aviation_fuels  5875 non-null   float64\n",
      " 6   marine_fuels    5826 non-null   float64\n",
      " 7   paraffin_oil    5838 non-null   float64\n",
      " 8   other_types     5824 non-null   float64\n",
      " 9   total           5904 non-null   float64\n",
      " 10  percentage      5904 non-null   float64\n",
      "dtypes: float64(9), object(2)\n",
      "memory usage: 553.5+ KB\n"
     ]
    }
   ],
   "source": [
    "# Load Raw data\n",
    "epdk_petrol_province_data = pd.read_csv('data/daas_raw_data.csv', index_col=[0])\n",
    "epdk_petrol_province_data.info()"
   ]
  },
  {
   "cell_type": "markdown",
   "metadata": {},
   "source": [
    "## Preprocessing"
   ]
  },
  {
   "cell_type": "code",
   "execution_count": 4,
   "metadata": {},
   "outputs": [
    {
     "name": "stdout",
     "output_type": "stream",
     "text": [
      "Missing Dates are:  [numpy.datetime64('2021-10-01T00:00:00.000000000')]\n"
     ]
    }
   ],
   "source": [
    "\"\"\"Preprocessing\"\"\"\n",
    "from src.preprocessing.preprocess import PreprocessData\n",
    "\n",
    "# Initialize preprocess object\n",
    "prep = PreprocessData(data=epdk_petrol_province_data)\n",
    "### Define parameters to preprocess ###\n",
    "# -------------------------------------------------------- #\n",
    "target_col_list = [\"date\",\"province\",\"diesel_types\"]\n",
    "row_drop_dict = {\"province\": \"Toplam\"} \n",
    "# format_date_flag = True # True by default\n",
    "col_rename_dict = {\"diesel_types\":\"current_month_consumption\"}\n",
    "anomaly_col = \"current_month_consumption\" \n",
    "# -------------------------------------------------------- #\n",
    "# Preprocess data with given parameters\n",
    "preprocessed_df = prep.preprocess_data(target_col_list=target_col_list,\n",
    "                                 row_drop_dict=row_drop_dict,\n",
    "                                 col_rename_dict=col_rename_dict,\n",
    "                                 anomaly_col=anomaly_col)\n"
   ]
  },
  {
   "cell_type": "markdown",
   "metadata": {},
   "source": [
    "## Feature Engineering"
   ]
  },
  {
   "cell_type": "code",
   "execution_count": 5,
   "metadata": {},
   "outputs": [
    {
     "name": "stderr",
     "output_type": "stream",
     "text": [
      "c:\\Users\\02485955\\bireysel_proje\\env38\\lib\\site-packages\\statsmodels\\tsa\\statespace\\sarimax.py:966: UserWarning: Non-stationary starting autoregressive parameters found. Using zeros as starting parameters.\n",
      "  warn('Non-stationary starting autoregressive parameters'\n",
      "c:\\Users\\02485955\\bireysel_proje\\env38\\lib\\site-packages\\statsmodels\\tsa\\statespace\\sarimax.py:978: UserWarning: Non-invertible starting MA parameters found. Using zeros as starting parameters.\n",
      "  warn('Non-invertible starting MA parameters found.'\n",
      "c:\\Users\\02485955\\bireysel_proje\\env38\\lib\\site-packages\\statsmodels\\tsa\\statespace\\sarimax.py:966: UserWarning: Non-stationary starting autoregressive parameters found. Using zeros as starting parameters.\n",
      "  warn('Non-stationary starting autoregressive parameters'\n",
      "c:\\Users\\02485955\\bireysel_proje\\env38\\lib\\site-packages\\statsmodels\\tsa\\statespace\\sarimax.py:978: UserWarning: Non-invertible starting MA parameters found. Using zeros as starting parameters.\n",
      "  warn('Non-invertible starting MA parameters found.'\n",
      "02:44:02 - cmdstanpy - INFO - Chain [1] start processing\n",
      "02:44:03 - cmdstanpy - INFO - Chain [1] done processing\n",
      "02:44:04 - cmdstanpy - INFO - Chain [1] start processing\n",
      "02:44:04 - cmdstanpy - INFO - Chain [1] done processing\n",
      "02:44:04 - cmdstanpy - INFO - Chain [1] start processing\n",
      "02:44:05 - cmdstanpy - INFO - Chain [1] done processing\n",
      "02:44:06 - cmdstanpy - INFO - Chain [1] start processing\n",
      "02:44:06 - cmdstanpy - INFO - Chain [1] done processing\n",
      "02:44:07 - cmdstanpy - INFO - Chain [1] start processing\n",
      "02:44:08 - cmdstanpy - INFO - Chain [1] done processing\n",
      "02:44:08 - cmdstanpy - INFO - Chain [1] start processing\n",
      "02:44:09 - cmdstanpy - INFO - Chain [1] done processing\n",
      "02:44:10 - cmdstanpy - INFO - Chain [1] start processing\n",
      "02:44:10 - cmdstanpy - INFO - Chain [1] done processing\n",
      "02:44:11 - cmdstanpy - INFO - Chain [1] start processing\n",
      "02:44:11 - cmdstanpy - INFO - Chain [1] done processing\n",
      "02:44:11 - cmdstanpy - INFO - Chain [1] start processing\n",
      "02:44:12 - cmdstanpy - INFO - Chain [1] done processing\n",
      "02:44:12 - cmdstanpy - INFO - Chain [1] start processing\n",
      "02:44:13 - cmdstanpy - INFO - Chain [1] done processing\n",
      "02:44:13 - cmdstanpy - INFO - Chain [1] start processing\n",
      "02:44:14 - cmdstanpy - INFO - Chain [1] done processing\n",
      "02:44:15 - cmdstanpy - INFO - Chain [1] start processing\n",
      "02:44:15 - cmdstanpy - INFO - Chain [1] done processing\n",
      "02:44:16 - cmdstanpy - INFO - Chain [1] start processing\n",
      "02:44:16 - cmdstanpy - INFO - Chain [1] done processing\n",
      "02:44:17 - cmdstanpy - INFO - Chain [1] start processing\n",
      "02:44:17 - cmdstanpy - INFO - Chain [1] done processing\n",
      "02:44:18 - cmdstanpy - INFO - Chain [1] start processing\n",
      "02:44:18 - cmdstanpy - INFO - Chain [1] done processing\n",
      "02:44:19 - cmdstanpy - INFO - Chain [1] start processing\n",
      "02:44:19 - cmdstanpy - INFO - Chain [1] done processing\n",
      "02:44:20 - cmdstanpy - INFO - Chain [1] start processing\n",
      "02:44:20 - cmdstanpy - INFO - Chain [1] done processing\n",
      "02:44:21 - cmdstanpy - INFO - Chain [1] start processing\n",
      "02:44:21 - cmdstanpy - INFO - Chain [1] done processing\n",
      "02:44:22 - cmdstanpy - INFO - Chain [1] start processing\n",
      "02:44:22 - cmdstanpy - INFO - Chain [1] done processing\n",
      "02:44:23 - cmdstanpy - INFO - Chain [1] start processing\n",
      "02:44:23 - cmdstanpy - INFO - Chain [1] done processing\n",
      "02:44:24 - cmdstanpy - INFO - Chain [1] start processing\n",
      "02:44:24 - cmdstanpy - INFO - Chain [1] done processing\n",
      "02:44:25 - cmdstanpy - INFO - Chain [1] start processing\n",
      "02:44:25 - cmdstanpy - INFO - Chain [1] done processing\n",
      "02:44:26 - cmdstanpy - INFO - Chain [1] start processing\n",
      "02:44:27 - cmdstanpy - INFO - Chain [1] done processing\n",
      "02:44:27 - cmdstanpy - INFO - Chain [1] start processing\n",
      "02:44:27 - cmdstanpy - INFO - Chain [1] done processing\n",
      "02:44:28 - cmdstanpy - INFO - Chain [1] start processing\n",
      "02:44:29 - cmdstanpy - INFO - Chain [1] done processing\n",
      "02:44:29 - cmdstanpy - INFO - Chain [1] start processing\n",
      "02:44:30 - cmdstanpy - INFO - Chain [1] done processing\n",
      "02:44:30 - cmdstanpy - INFO - Chain [1] start processing\n",
      "02:44:31 - cmdstanpy - INFO - Chain [1] done processing\n",
      "02:44:31 - cmdstanpy - INFO - Chain [1] start processing\n",
      "02:44:32 - cmdstanpy - INFO - Chain [1] done processing\n",
      "02:44:32 - cmdstanpy - INFO - Chain [1] start processing\n",
      "02:44:33 - cmdstanpy - INFO - Chain [1] done processing\n",
      "02:44:33 - cmdstanpy - INFO - Chain [1] start processing\n",
      "02:44:34 - cmdstanpy - INFO - Chain [1] done processing\n",
      "02:44:34 - cmdstanpy - INFO - Chain [1] start processing\n",
      "02:44:35 - cmdstanpy - INFO - Chain [1] done processing\n",
      "02:44:36 - cmdstanpy - INFO - Chain [1] start processing\n",
      "02:44:36 - cmdstanpy - INFO - Chain [1] done processing\n",
      "02:44:37 - cmdstanpy - INFO - Chain [1] start processing\n",
      "02:44:37 - cmdstanpy - INFO - Chain [1] done processing\n",
      "02:44:38 - cmdstanpy - INFO - Chain [1] start processing\n",
      "02:44:38 - cmdstanpy - INFO - Chain [1] done processing\n",
      "02:44:38 - cmdstanpy - INFO - Chain [1] start processing\n",
      "02:44:39 - cmdstanpy - INFO - Chain [1] done processing\n",
      "02:44:39 - cmdstanpy - INFO - Chain [1] start processing\n",
      "02:44:40 - cmdstanpy - INFO - Chain [1] done processing\n",
      "02:44:40 - cmdstanpy - INFO - Chain [1] start processing\n",
      "02:44:41 - cmdstanpy - INFO - Chain [1] done processing\n",
      "02:44:41 - cmdstanpy - INFO - Chain [1] start processing\n",
      "02:44:42 - cmdstanpy - INFO - Chain [1] done processing\n",
      "02:44:42 - cmdstanpy - INFO - Chain [1] start processing\n",
      "02:44:43 - cmdstanpy - INFO - Chain [1] done processing\n",
      "02:44:43 - cmdstanpy - INFO - Chain [1] start processing\n",
      "02:44:44 - cmdstanpy - INFO - Chain [1] done processing\n",
      "02:44:44 - cmdstanpy - INFO - Chain [1] start processing\n",
      "02:44:45 - cmdstanpy - INFO - Chain [1] done processing\n",
      "02:44:46 - cmdstanpy - INFO - Chain [1] start processing\n",
      "02:44:46 - cmdstanpy - INFO - Chain [1] done processing\n",
      "02:44:47 - cmdstanpy - INFO - Chain [1] start processing\n",
      "02:44:47 - cmdstanpy - INFO - Chain [1] done processing\n",
      "02:44:48 - cmdstanpy - INFO - Chain [1] start processing\n",
      "02:44:48 - cmdstanpy - INFO - Chain [1] done processing\n",
      "02:44:49 - cmdstanpy - INFO - Chain [1] start processing\n",
      "02:44:50 - cmdstanpy - INFO - Chain [1] done processing\n",
      "02:44:50 - cmdstanpy - INFO - Chain [1] start processing\n",
      "02:44:51 - cmdstanpy - INFO - Chain [1] done processing\n",
      "02:44:51 - cmdstanpy - INFO - Chain [1] start processing\n",
      "02:44:52 - cmdstanpy - INFO - Chain [1] done processing\n",
      "02:44:53 - cmdstanpy - INFO - Chain [1] start processing\n",
      "02:44:53 - cmdstanpy - INFO - Chain [1] done processing\n",
      "02:44:54 - cmdstanpy - INFO - Chain [1] start processing\n",
      "02:44:54 - cmdstanpy - INFO - Chain [1] done processing\n",
      "02:44:55 - cmdstanpy - INFO - Chain [1] start processing\n",
      "02:44:55 - cmdstanpy - INFO - Chain [1] done processing\n",
      "02:44:56 - cmdstanpy - INFO - Chain [1] start processing\n",
      "02:44:56 - cmdstanpy - INFO - Chain [1] done processing\n",
      "02:44:57 - cmdstanpy - INFO - Chain [1] start processing\n",
      "02:44:57 - cmdstanpy - INFO - Chain [1] done processing\n",
      "02:44:58 - cmdstanpy - INFO - Chain [1] start processing\n",
      "02:44:58 - cmdstanpy - INFO - Chain [1] done processing\n",
      "02:44:59 - cmdstanpy - INFO - Chain [1] start processing\n",
      "02:44:59 - cmdstanpy - INFO - Chain [1] done processing\n",
      "02:45:00 - cmdstanpy - INFO - Chain [1] start processing\n",
      "02:45:01 - cmdstanpy - INFO - Chain [1] done processing\n",
      "02:45:01 - cmdstanpy - INFO - Chain [1] start processing\n",
      "02:45:02 - cmdstanpy - INFO - Chain [1] done processing\n",
      "02:45:02 - cmdstanpy - INFO - Chain [1] start processing\n",
      "02:45:03 - cmdstanpy - INFO - Chain [1] done processing\n",
      "02:45:03 - cmdstanpy - INFO - Chain [1] start processing\n",
      "02:45:04 - cmdstanpy - INFO - Chain [1] done processing\n",
      "02:45:04 - cmdstanpy - INFO - Chain [1] start processing\n",
      "02:45:05 - cmdstanpy - INFO - Chain [1] done processing\n",
      "02:45:05 - cmdstanpy - INFO - Chain [1] start processing\n",
      "02:45:06 - cmdstanpy - INFO - Chain [1] done processing\n",
      "02:45:06 - cmdstanpy - INFO - Chain [1] start processing\n",
      "02:45:07 - cmdstanpy - INFO - Chain [1] done processing\n",
      "02:45:07 - cmdstanpy - INFO - Chain [1] start processing\n",
      "02:45:08 - cmdstanpy - INFO - Chain [1] done processing\n",
      "02:45:08 - cmdstanpy - INFO - Chain [1] start processing\n",
      "02:45:09 - cmdstanpy - INFO - Chain [1] done processing\n",
      "02:45:10 - cmdstanpy - INFO - Chain [1] start processing\n",
      "02:45:10 - cmdstanpy - INFO - Chain [1] done processing\n",
      "02:45:11 - cmdstanpy - INFO - Chain [1] start processing\n",
      "02:45:11 - cmdstanpy - INFO - Chain [1] done processing\n",
      "02:45:12 - cmdstanpy - INFO - Chain [1] start processing\n",
      "02:45:12 - cmdstanpy - INFO - Chain [1] done processing\n",
      "02:45:13 - cmdstanpy - INFO - Chain [1] start processing\n",
      "02:45:14 - cmdstanpy - INFO - Chain [1] done processing\n",
      "02:45:14 - cmdstanpy - INFO - Chain [1] start processing\n",
      "02:45:14 - cmdstanpy - INFO - Chain [1] done processing\n",
      "02:45:15 - cmdstanpy - INFO - Chain [1] start processing\n",
      "02:45:15 - cmdstanpy - INFO - Chain [1] done processing\n",
      "02:45:16 - cmdstanpy - INFO - Chain [1] start processing\n",
      "02:45:17 - cmdstanpy - INFO - Chain [1] done processing\n",
      "02:45:17 - cmdstanpy - INFO - Chain [1] start processing\n",
      "02:45:18 - cmdstanpy - INFO - Chain [1] done processing\n",
      "02:45:18 - cmdstanpy - INFO - Chain [1] start processing\n",
      "02:45:19 - cmdstanpy - INFO - Chain [1] done processing\n",
      "02:45:19 - cmdstanpy - INFO - Chain [1] start processing\n",
      "02:45:20 - cmdstanpy - INFO - Chain [1] done processing\n",
      "02:45:20 - cmdstanpy - INFO - Chain [1] start processing\n",
      "02:45:21 - cmdstanpy - INFO - Chain [1] done processing\n",
      "02:45:21 - cmdstanpy - INFO - Chain [1] start processing\n",
      "02:45:22 - cmdstanpy - INFO - Chain [1] done processing\n",
      "02:45:22 - cmdstanpy - INFO - Chain [1] start processing\n",
      "02:45:23 - cmdstanpy - INFO - Chain [1] done processing\n",
      "02:45:23 - cmdstanpy - INFO - Chain [1] start processing\n",
      "02:45:24 - cmdstanpy - INFO - Chain [1] done processing\n",
      "02:45:24 - cmdstanpy - INFO - Chain [1] start processing\n",
      "02:45:25 - cmdstanpy - INFO - Chain [1] done processing\n",
      "02:45:25 - cmdstanpy - INFO - Chain [1] start processing\n",
      "02:45:26 - cmdstanpy - INFO - Chain [1] done processing\n",
      "02:45:26 - cmdstanpy - INFO - Chain [1] start processing\n",
      "02:45:27 - cmdstanpy - INFO - Chain [1] done processing\n",
      "02:45:27 - cmdstanpy - INFO - Chain [1] start processing\n",
      "02:45:28 - cmdstanpy - INFO - Chain [1] done processing\n"
     ]
    },
    {
     "name": "stdout",
     "output_type": "stream",
     "text": [
      "Index(['date', 'province', 'current_month_consumption', 'trend', 'yhat_lower',\n",
      "       'yhat_upper', 'yhat'],\n",
      "      dtype='object')\n"
     ]
    }
   ],
   "source": [
    "\"\"\"FeatureEngineering\"\"\"\n",
    "from src.feature_engineering.feat_eng import FeatureEngineering\n",
    "\n",
    "# Initialize feature engineering object\n",
    "feng = FeatureEngineering(data=preprocessed_df)\n",
    "# Apply feature engineering to the preprocessed data\n",
    "feature_engineered_df = feng.feature_engineering()"
   ]
  },
  {
   "cell_type": "markdown",
   "metadata": {},
   "source": [
    "## Ultimate Train - Test Split"
   ]
  },
  {
   "cell_type": "code",
   "execution_count": null,
   "metadata": {},
   "outputs": [],
   "source": [
    "from src.model_selection.data_preperation import DataPreperation as dp\n",
    "\n",
    "# Train-Test split \n"
   ]
  }
 ],
 "metadata": {
  "kernelspec": {
   "display_name": "Python 3.8.1 ('env38': venv)",
   "language": "python",
   "name": "python3"
  },
  "language_info": {
   "codemirror_mode": {
    "name": "ipython",
    "version": 3
   },
   "file_extension": ".py",
   "mimetype": "text/x-python",
   "name": "python",
   "nbconvert_exporter": "python",
   "pygments_lexer": "ipython3",
   "version": "3.8.1"
  },
  "orig_nbformat": 4,
  "vscode": {
   "interpreter": {
    "hash": "16f20fb1ed6254620f2d636807022f0ec277b178915348b63e9bfe829f5d63c3"
   }
  }
 },
 "nbformat": 4,
 "nbformat_minor": 2
}
