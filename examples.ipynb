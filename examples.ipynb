{
 "cells": [
  {
   "cell_type": "code",
   "execution_count": 1,
   "metadata": {},
   "outputs": [],
   "source": [
    "import sys\n",
    "sys.path.append('..') \n",
    "import os"
   ]
  },
  {
   "cell_type": "code",
   "execution_count": 2,
   "metadata": {},
   "outputs": [],
   "source": [
    "import pandas as pd\n",
    "from datetime import date, timedelta, datetime\n",
    "from dateutil.relativedelta import relativedelta"
   ]
  },
  {
   "cell_type": "markdown",
   "metadata": {},
   "source": [
    "## Data Loading"
   ]
  },
  {
   "cell_type": "code",
   "execution_count": 3,
   "metadata": {},
   "outputs": [
    {
     "name": "stdout",
     "output_type": "stream",
     "text": [
      "<class 'pandas.core.frame.DataFrame'>\n",
      "Int64Index: 4698 entries, 15 to 5912\n",
      "Data columns (total 18 columns):\n",
      " #   Column                              Non-Null Count  Dtype         \n",
      "---  ------                              --------------  -----         \n",
      " 0   date                                4698 non-null   datetime64[ns]\n",
      " 1   province                            4698 non-null   object        \n",
      " 2   current_month_consumption           4698 non-null   float64       \n",
      " 3   last_year_same_month_consumption    4698 non-null   float64       \n",
      " 4   last_year_total_consumption         4698 non-null   float64       \n",
      " 5   current_month_share                 4698 non-null   float64       \n",
      " 6   previous_1_month_share              4698 non-null   float64       \n",
      " 7   previous_2_month_share              4698 non-null   float64       \n",
      " 8   previous_3_month_share              4698 non-null   float64       \n",
      " 9   previous_1_month_consumption        4698 non-null   float64       \n",
      " 10  previous_2_month_consumption        4698 non-null   float64       \n",
      " 11  previous_3_month_consumption        4698 non-null   float64       \n",
      " 12  quarter                             4698 non-null   int64         \n",
      " 13  covid                               4698 non-null   int64         \n",
      " 14  school_holiday                      4698 non-null   int64         \n",
      " 15  2017_nufüs                          4698 non-null   int64         \n",
      " 16  2023_nüfus_prediction               4698 non-null   int64         \n",
      " 17  Yıllık ortalama \n",
      "nüfus artış hızı   4698 non-null   float64       \n",
      "dtypes: datetime64[ns](1), float64(11), int64(5), object(1)\n",
      "memory usage: 697.4+ KB\n"
     ]
    }
   ],
   "source": [
    "parse_dates = [\"date\"]\n",
    "feature_engineered_df = pd.read_csv('data/feature_engineered_df.csv', index_col=[0], parse_dates=parse_dates)\n",
    "feature_engineered_df.info()"
   ]
  },
  {
   "cell_type": "markdown",
   "metadata": {},
   "source": [
    "## Time-Series Split Testing"
   ]
  },
  {
   "cell_type": "code",
   "execution_count": 4,
   "metadata": {},
   "outputs": [
    {
     "name": "stdout",
     "output_type": "stream",
     "text": [
      "TRAIN: [   0    1    2 ... 4290 4291 4292] TEST: [4293 4294 4295 4296 4297 4298 4299 4300 4301 4302 4303 4304 4305 4306\n",
      " 4307 4308 4309 4310 4311 4312 4313 4314 4315 4316 4317 4318 4319 4320\n",
      " 4321 4322 4323 4324 4325 4326 4327 4328 4329 4330 4331 4332 4333 4334\n",
      " 4335 4336 4337 4338 4339 4340 4341 4342 4343 4344 4345 4346 4347 4348\n",
      " 4349 4350 4351 4352 4353 4354 4355 4356 4357 4358 4359 4360 4361 4362\n",
      " 4363 4364 4365 4366 4367 4368 4369 4370 4371 4372 4373]\n",
      "TRAIN: [   0    1    2 ... 4371 4372 4373] TEST: [4374 4375 4376 4377 4378 4379 4380 4381 4382 4383 4384 4385 4386 4387\n",
      " 4388 4389 4390 4391 4392 4393 4394 4395 4396 4397 4398 4399 4400 4401\n",
      " 4402 4403 4404 4405 4406 4407 4408 4409 4410 4411 4412 4413 4414 4415\n",
      " 4416 4417 4418 4419 4420 4421 4422 4423 4424 4425 4426 4427 4428 4429\n",
      " 4430 4431 4432 4433 4434 4435 4436 4437 4438 4439 4440 4441 4442 4443\n",
      " 4444 4445 4446 4447 4448 4449 4450 4451 4452 4453 4454]\n",
      "TRAIN: [   0    1    2 ... 4452 4453 4454] TEST: [4455 4456 4457 4458 4459 4460 4461 4462 4463 4464 4465 4466 4467 4468\n",
      " 4469 4470 4471 4472 4473 4474 4475 4476 4477 4478 4479 4480 4481 4482\n",
      " 4483 4484 4485 4486 4487 4488 4489 4490 4491 4492 4493 4494 4495 4496\n",
      " 4497 4498 4499 4500 4501 4502 4503 4504 4505 4506 4507 4508 4509 4510\n",
      " 4511 4512 4513 4514 4515 4516 4517 4518 4519 4520 4521 4522 4523 4524\n",
      " 4525 4526 4527 4528 4529 4530 4531 4532 4533 4534 4535]\n",
      "TRAIN: [   0    1    2 ... 4533 4534 4535] TEST: [4536 4537 4538 4539 4540 4541 4542 4543 4544 4545 4546 4547 4548 4549\n",
      " 4550 4551 4552 4553 4554 4555 4556 4557 4558 4559 4560 4561 4562 4563\n",
      " 4564 4565 4566 4567 4568 4569 4570 4571 4572 4573 4574 4575 4576 4577\n",
      " 4578 4579 4580 4581 4582 4583 4584 4585 4586 4587 4588 4589 4590 4591\n",
      " 4592 4593 4594 4595 4596 4597 4598 4599 4600 4601 4602 4603 4604 4605\n",
      " 4606 4607 4608 4609 4610 4611 4612 4613 4614 4615 4616]\n",
      "TRAIN: [   0    1    2 ... 4614 4615 4616] TEST: [4617 4618 4619 4620 4621 4622 4623 4624 4625 4626 4627 4628 4629 4630\n",
      " 4631 4632 4633 4634 4635 4636 4637 4638 4639 4640 4641 4642 4643 4644\n",
      " 4645 4646 4647 4648 4649 4650 4651 4652 4653 4654 4655 4656 4657 4658\n",
      " 4659 4660 4661 4662 4663 4664 4665 4666 4667 4668 4669 4670 4671 4672\n",
      " 4673 4674 4675 4676 4677 4678 4679 4680 4681 4682 4683 4684 4685 4686\n",
      " 4687 4688 4689 4690 4691 4692 4693 4694 4695 4696 4697]\n"
     ]
    }
   ],
   "source": [
    "deneme = feature_engineered_df.sort_values(by=[\"date\"]).reset_index(drop=True).copy()\n",
    "from sklearn.model_selection import TimeSeriesSplit\n",
    "tscv = TimeSeriesSplit(gap=0, max_train_size=None, n_splits=5, test_size=81)\n",
    "cv = tscv\n",
    "for train_index, test_index in tscv.split(deneme):\n",
    "    print(\"TRAIN:\", train_index, \"TEST:\", test_index)"
   ]
  }
 ],
 "metadata": {
  "kernelspec": {
   "display_name": "Python 3.10.3 64-bit",
   "language": "python",
   "name": "python3"
  },
  "language_info": {
   "codemirror_mode": {
    "name": "ipython",
    "version": 3
   },
   "file_extension": ".py",
   "mimetype": "text/x-python",
   "name": "python",
   "nbconvert_exporter": "python",
   "pygments_lexer": "ipython3",
   "version": "3.10.3"
  },
  "orig_nbformat": 4,
  "vscode": {
   "interpreter": {
    "hash": "e593ac106456af50ce7af38f9671c411b49d6cd90f9b885e167f0f594e09038c"
   }
  }
 },
 "nbformat": 4,
 "nbformat_minor": 2
}
