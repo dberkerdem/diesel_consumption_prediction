{
 "cells": [
  {
   "cell_type": "code",
   "execution_count": null,
   "metadata": {},
   "outputs": [],
   "source": [
    "import sys\n",
    "sys.path.append('..') \n",
    "import os\n",
    "\n",
    "import psycopg2\n",
    "import pandas as pd\n",
    "import numpy as np\n",
    "from datetime import date, timedelta, datetime\n",
    "from dateutil.relativedelta import relativedelta"
   ]
  },
  {
   "cell_type": "markdown",
   "metadata": {},
   "source": [
    "# Main"
   ]
  },
  {
   "cell_type": "markdown",
   "metadata": {},
   "source": [
    "## Data Loading"
   ]
  },
  {
   "cell_type": "code",
   "execution_count": null,
   "metadata": {},
   "outputs": [],
   "source": [
    "# \"\"\"DataLoad\"\"\"\n",
    "# from src.utils.config import get_config\n",
    "# from src.db_ops.db_ops import PosgreOps\n",
    "\n",
    "# # Load Config\n",
    "# config = get_config()\n",
    "# # Initialize database operator, this case posgre operator\n",
    "# pgops = PosgreOps(config=config)\n",
    "# ### Define the required parameters to load the data ###\n",
    "# # -------------------------------------------------------- #\n",
    "# months = 84\n",
    "# table_name = \"daas.epdk_petrol_province\"\n",
    "# # -------------------------------------------------------- #\n",
    "# # Fetch data from database\n",
    "# epdk_petrol_province_data = pgops.get_monthly_data(table_name=table_name,\n",
    "#                                                 today=date.today(), months=months)\n",
    "# # Close the connection after obtaining the data\n",
    "# pgops.shutdown()"
   ]
  },
  {
   "cell_type": "code",
   "execution_count": null,
   "metadata": {},
   "outputs": [],
   "source": [
    "# # Investigate Results\n",
    "# print(epdk_petrol_province_data.shape)\n",
    "# print(epdk_petrol_province_data.province.nunique())\n",
    "# print(epdk_petrol_province_data.date.min())"
   ]
  },
  {
   "cell_type": "code",
   "execution_count": null,
   "metadata": {},
   "outputs": [],
   "source": [
    "# epdk_petrol_province_data.date.dtypes"
   ]
  },
  {
   "cell_type": "code",
   "execution_count": null,
   "metadata": {},
   "outputs": [],
   "source": [
    "# Load Raw data\n",
    "epdk_petrol_province_data = pd.read_csv('data/daas_raw_data.csv', index_col=[0])\n",
    "epdk_petrol_province_data.info()"
   ]
  },
  {
   "cell_type": "markdown",
   "metadata": {},
   "source": [
    "## Preprocessing"
   ]
  },
  {
   "cell_type": "code",
   "execution_count": null,
   "metadata": {},
   "outputs": [],
   "source": [
    "\"\"\"Preprocessing\"\"\"\n",
    "from src.preprocessing.preprocess import PreprocessData\n",
    "\n",
    "# Initialize preprocess object\n",
    "prep = PreprocessData(data=epdk_petrol_province_data)\n",
    "### Define parameters to preprocess ###\n",
    "# -------------------------------------------------------- #\n",
    "target_col_list = [\"date\",\"province\",\"diesel_types\"]\n",
    "row_drop_dict = {\"province\": \"Toplam\"} \n",
    "# format_date_flag = True # True by default\n",
    "col_rename_dict = {\"diesel_types\":\"current_month_consumption\"}\n",
    "anomaly_col = \"current_month_consumption\" \n",
    "# -------------------------------------------------------- #\n",
    "# Preprocess data with given parameters\n",
    "preprocessed_df = prep.preprocess_data(target_col_list=target_col_list,\n",
    "                                 row_drop_dict=row_drop_dict,\n",
    "                                 col_rename_dict=col_rename_dict,\n",
    "                                 anomaly_col=anomaly_col)\n"
   ]
  },
  {
   "cell_type": "code",
   "execution_count": null,
   "metadata": {},
   "outputs": [],
   "source": [
    "# Investigate results\n",
    "print(preprocessed_df.shape)\n",
    "print(preprocessed_df.province.nunique())\n",
    "print(preprocessed_df.date.min())"
   ]
  },
  {
   "cell_type": "code",
   "execution_count": null,
   "metadata": {},
   "outputs": [],
   "source": [
    "preprocessed_df.tail()"
   ]
  },
  {
   "cell_type": "code",
   "execution_count": null,
   "metadata": {},
   "outputs": [],
   "source": [
    "# Control whether the missing values at 2021-10-01 are filled \n",
    "preprocessed_df.query(f\"date=='{date(2021,10,1)}'\").sort_values(by=\"current_month_consumption\").tail()"
   ]
  },
  {
   "cell_type": "code",
   "execution_count": null,
   "metadata": {},
   "outputs": [],
   "source": [
    "# # Save preprocessed data\n",
    "# preprocessed_df.to_csv(\"data/preprocessed_df.csv\")\n",
    "# # Load preprocessed data\n",
    "# parse_dates = [\"date\"]\n",
    "# preprocessed_df = pd.read_csv('data/preprocessed_df.csv', index_col=[0], parse_dates=parse_dates)\n",
    "# preprocessed_df.info()"
   ]
  },
  {
   "cell_type": "markdown",
   "metadata": {},
   "source": [
    "## Plotting"
   ]
  },
  {
   "cell_type": "code",
   "execution_count": null,
   "metadata": {},
   "outputs": [],
   "source": [
    "\"\"\"Plotting\"\"\"\n",
    "from src.utils.plotting import plot_province\n",
    "\n",
    "plot_province(df=preprocessed_df, col_x=\"date\", col_y=\"current_month_consumption\", province=\"BAYBURT\", stdev=2)"
   ]
  },
  {
   "cell_type": "markdown",
   "metadata": {},
   "source": [
    "## Feature Engineering"
   ]
  },
  {
   "cell_type": "code",
   "execution_count": null,
   "metadata": {},
   "outputs": [],
   "source": [
    "\"\"\"FeatureEngineering\"\"\"\n",
    "from src.feature_engineering.feat_eng import FeatureEngineering\n",
    "\n",
    "# Initialize feature engineering object\n",
    "feng = FeatureEngineering(data=preprocessed_df)\n",
    "# Apply feature engineering to the preprocessed data\n",
    "feature_engineered_df = feng.feature_engineering()"
   ]
  },
  {
   "cell_type": "code",
   "execution_count": null,
   "metadata": {},
   "outputs": [],
   "source": [
    "print(feature_engineered_df.shape)\n",
    "feature_engineered_df.query(\"current_month_consumption%1==0\")"
   ]
  },
  {
   "cell_type": "code",
   "execution_count": null,
   "metadata": {},
   "outputs": [],
   "source": [
    "# feature_engineered_df.query(\"province == 'ARTVİN'\")"
   ]
  },
  {
   "cell_type": "code",
   "execution_count": null,
   "metadata": {},
   "outputs": [],
   "source": [
    "from src.utils.plotting import plot_metrics\n",
    "plot_metrics(feature_engineered_df.query(\"province == 'İSTANBUL'\"), col_x=\"date\", col_y1=\"current_month_consumption\", col_y2=\"ARIMA_prediction\")"
   ]
  },
  {
   "cell_type": "code",
   "execution_count": null,
   "metadata": {},
   "outputs": [],
   "source": [
    "# Save feature_engineered_df \n",
    "feature_engineered_df.to_csv(\"data/feature_engineered_df.csv\")"
   ]
  }
 ],
 "metadata": {
  "kernelspec": {
   "display_name": "Python 3.10.3 64-bit",
   "language": "python",
   "name": "python3"
  },
  "language_info": {
   "codemirror_mode": {
    "name": "ipython",
    "version": 3
   },
   "file_extension": ".py",
   "mimetype": "text/x-python",
   "name": "python",
   "nbconvert_exporter": "python",
   "pygments_lexer": "ipython3",
   "version": "3.10.3"
  },
  "orig_nbformat": 4,
  "vscode": {
   "interpreter": {
    "hash": "e593ac106456af50ce7af38f9671c411b49d6cd90f9b885e167f0f594e09038c"
   }
  }
 },
 "nbformat": 4,
 "nbformat_minor": 2
}
